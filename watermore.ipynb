{
 "cells": [
  {
   "cell_type": "markdown",
   "id": "24ce55eb",
   "metadata": {},
   "source": [
    "## Main Function"
   ]
  },
  {
   "cell_type": "code",
   "execution_count": null,
   "id": "e33655ed",
   "metadata": {},
   "outputs": [],
   "source": [
    "list_values = []\n",
    "IMAGES_FOR_TEST = {}\n",
    "while True:\n",
    "    if soil_moisture_activate():\n",
    "        camera = cv2.VideoCapture(0)\n",
    "        time.sleep(3)\n",
    "        take_and_save_photo()\n",
    "        image_np = loading_image()\n",
    "        result = inference(image_np, hub_model)\n",
    "        determine_yell(result)  \n",
    "        break"
   ]
  },
  {
   "cell_type": "code",
   "execution_count": null,
   "id": "543863c7",
   "metadata": {},
   "outputs": [],
   "source": [
    "pip install tensorflow protobuf==3.20.3 tensorflow-hub twilio cohere gTTS"
   ]
  },
  {
   "cell_type": "code",
   "execution_count": null,
   "id": "57b86d5a",
   "metadata": {},
   "outputs": [],
   "source": [
    "import os\n",
    "import pathlib\n",
    "import cv2\n",
    "import logging\n",
    "logging.disable(logging.WARNING)\n",
    "\n",
    "import matplotlib\n",
    "import matplotlib.pyplot as plt\n",
    "import time\n",
    "\n",
    "import numpy as np\n",
    "from six import BytesIO\n",
    "from PIL import Image\n",
    "from six.moves.urllib.request import urlopen\n",
    "\n",
    "import tensorflow as tf\n",
    "import tensorflow_hub as hub\n",
    "\n",
    "import serial\n",
    "\n",
    "from IPython.display import Audio\n",
    "from IPython.core.display import display\n",
    "\n",
    "from twilio.rest import Client\n",
    "import cohere\n",
    "from gtts import gTTS\n",
    "\n",
    "tf.get_logger().setLevel('ERROR')\n"
   ]
  },
  {
   "cell_type": "markdown",
   "id": "71ab01a4",
   "metadata": {},
   "source": [
    "# Select Model"
   ]
  },
  {
   "cell_type": "code",
   "execution_count": null,
   "id": "cae2d829",
   "metadata": {},
   "outputs": [],
   "source": [
    "model_handle = 'https://tfhub.dev/tensorflow/centernet/hourglass_512x512_kpts/1'\n",
    "hub_model = hub.load(model_handle)"
   ]
  },
  {
   "cell_type": "markdown",
   "id": "220d4897",
   "metadata": {},
   "source": [
    "## Arduino Response"
   ]
  },
  {
   "cell_type": "code",
   "execution_count": null,
   "id": "8c9adaa8",
   "metadata": {},
   "outputs": [],
   "source": [
    "def soil_moisture_activate():\n",
    "    arduino = serial.Serial('/dev/cu.usbmodem2101', 9600) # Change com3 when testing\n",
    "    print('Established serial connection to Arduino')\n",
    "    arduino_data = arduino.readline()\n",
    "    \n",
    "    decoded_value = str(arduino_data[0:len(arduino_data)].decode(\"utf-8\"))\n",
    "    print(f\"Collected data from arduino: {decoded_value}\")\n",
    "    if not decoded_value:\n",
    "        arduino.close()\n",
    "        return False\n",
    "    arduino.close()\n",
    "    return True"
   ]
  },
  {
   "cell_type": "markdown",
   "id": "a8124571",
   "metadata": {},
   "source": [
    "## Webcam to take picture"
   ]
  },
  {
   "cell_type": "code",
   "execution_count": null,
   "id": "40733bb5",
   "metadata": {},
   "outputs": [],
   "source": [
    "def take_and_save_photo():\n",
    "    ret, frame = camera.read()\n",
    "    plt.imshow(frame)\n",
    "    plt.show()\n",
    "    camera.release()\n",
    "    cv2.imwrite(\"photo.png\", frame)\n",
    "\n",
    "    # path to an image\n",
    "    IMAGES_FOR_TEST[\"Image1\"] = \"photo.png\""
   ]
  },
  {
   "cell_type": "code",
   "execution_count": null,
   "id": "a358606d",
   "metadata": {},
   "outputs": [],
   "source": [
    "def load_image_into_numpy_array(path):\n",
    "    image = None\n",
    "    image_data = tf.io.gfile.GFile(path, 'rb').read()\n",
    "    image = Image.open(BytesIO(image_data))\n",
    "    (im_width, im_height) = image.size\n",
    "    return np.array(image.getdata()).reshape(\n",
    "    (1, im_height, im_width, 3)).astype(np.uint8)"
   ]
  },
  {
   "cell_type": "code",
   "execution_count": null,
   "id": "332779b3",
   "metadata": {},
   "outputs": [],
   "source": [
    "def loading_image():\n",
    "    #@title Image Selection (don't forget to execute the cell!) { display-mode: \"form\"}\n",
    "    selected_image = 'Image1' # @param ['Image1']\n",
    "\n",
    "    image_path = IMAGES_FOR_TEST[selected_image]\n",
    "    Image.open(image_path)\n",
    "    image_np = load_image_into_numpy_array(image_path)\n",
    "\n",
    "    print('min:',np.min(image_np[0]), 'max:', np.max(image_np[0]))\n",
    "    plt.figure(figsize=(24,32))\n",
    "    plt.imshow(image_np[0])\n",
    "    #plt.show()\n",
    "    return image_np"
   ]
  },
  {
   "cell_type": "markdown",
   "id": "2b0af56b",
   "metadata": {},
   "source": [
    "## Use ML model to make inference"
   ]
  },
  {
   "cell_type": "code",
   "execution_count": null,
   "id": "324b020d",
   "metadata": {},
   "outputs": [],
   "source": [
    "def inference(image_np, hub_model_fn):\n",
    "    # running inference\n",
    "    results = hub_model_fn(image_np)\n",
    "\n",
    "    # different object detection models have additional results\n",
    "    # all of them are explained in the documentation\n",
    "    result = {key:value.numpy() for key,value in results.items()}\n",
    "    return result"
   ]
  },
  {
   "cell_type": "markdown",
   "id": "61f93c9c",
   "metadata": {},
   "source": [
    "## Determine if yelling is needed"
   ]
  },
  {
   "cell_type": "code",
   "execution_count": null,
   "id": "08f12c65",
   "metadata": {},
   "outputs": [],
   "source": [
    "def send_text():\n",
    "    client = Client('{clientid}', '{apikey}')\n",
    "    message = client.messages.create(\n",
    "        body=generate_prompt(),\n",
    "        from_='+16264653148',\n",
    "        to='+12263499481'\n",
    "    )\n",
    "    \n",
    "def generate_prompt():\n",
    "    co = cohere.Client('{apikey}')\n",
    "    prompt = \"Write a passive agressive message reminding me to water my plants\"\n",
    "    response = co.generate(  \n",
    "        model='command-nightly',  \n",
    "        prompt = prompt,  \n",
    "        max_tokens=200,  \n",
    "        temperature=0.750\n",
    "    )\n",
    "    return response.generations[0].text\n",
    "\n",
    "def tts():\n",
    "    mytext = generate_prompt()\n",
    "    print(mytext)\n",
    "    language = 'en'\n",
    "    myobj = gTTS(text=mytext, lang=language, slow=False)\n",
    "    myobj.save(\"welcome.mp3\")\n",
    "    os.system(\"mpg321 welcome.mp3\")\n",
    "\n",
    "def determine_yell(result):\n",
    "    for i in range(result['detection_classes'][0].size):\n",
    "        if result['detection_scores'][0][i] > 0.6 and result['detection_classes'][0][i] == 1.0:\n",
    "            tts()\n",
    "            return\n",
    "    send_text()"
   ]
  },
  {
   "cell_type": "code",
   "execution_count": null,
   "id": "ea896182",
   "metadata": {},
   "outputs": [],
   "source": []
  }
 ],
 "metadata": {
  "kernelspec": {
   "display_name": "Python 3 (ipykernel)",
   "language": "python",
   "name": "python3"
  },
  "language_info": {
   "codemirror_mode": {
    "name": "ipython",
    "version": 3
   },
   "file_extension": ".py",
   "mimetype": "text/x-python",
   "name": "python",
   "nbconvert_exporter": "python",
   "pygments_lexer": "ipython3",
   "version": "3.10.4"
  }
 },
 "nbformat": 4,
 "nbformat_minor": 5
}
